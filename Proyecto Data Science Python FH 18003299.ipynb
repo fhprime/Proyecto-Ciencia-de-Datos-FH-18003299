{
 "cells": [
  {
   "attachments": {},
   "cell_type": "markdown",
   "metadata": {},
   "source": [
    "## Proyecto Ciencia de Datos en Python Fabián Hernández 1803299"
   ]
  },
  {
   "cell_type": "code",
   "execution_count": 1,
   "metadata": {},
   "outputs": [],
   "source": [
    "# Importamos paquetes necesarios en esta celda\n",
    "import numpy as np"
   ]
  },
  {
   "cell_type": "code",
   "execution_count": 20,
   "metadata": {},
   "outputs": [],
   "source": [
    "# Cargo datos usando la funcion load de numpy \n",
    "data = np.load('proyecto_training_data.npy')\n",
    "mascara = np.random.rand(len(data)) <= 0.8\n",
    "data_training = data[mascara]\n",
    "data_test = data[~mascara]"
   ]
  },
  {
   "cell_type": "code",
   "execution_count": 31,
   "metadata": {},
   "outputs": [
    {
     "name": "stdout",
     "output_type": "stream",
     "text": [
      "[223500. 140000. 250000. ... 266500. 142125. 147500.]\n"
     ]
    }
   ],
   "source": [
    "sale_price = data_training[:,0]\n",
    "OverallQual = data_training[:,1]\n"
   ]
  }
 ],
 "metadata": {
  "kernelspec": {
   "display_name": "base",
   "language": "python",
   "name": "python3"
  },
  "language_info": {
   "codemirror_mode": {
    "name": "ipython",
    "version": 3
   },
   "file_extension": ".py",
   "mimetype": "text/x-python",
   "name": "python",
   "nbconvert_exporter": "python",
   "pygments_lexer": "ipython3",
   "version": "3.9.13"
  },
  "orig_nbformat": 4,
  "vscode": {
   "interpreter": {
    "hash": "5b9cf49fa92978537ab9bdff70f1d4ad5fa616dc462fbf1ad2beb85663942639"
   }
  }
 },
 "nbformat": 4,
 "nbformat_minor": 2
}
